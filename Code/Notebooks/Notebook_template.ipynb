{
 "cells": [
  {
   "cell_type": "markdown",
   "id": "35d4ea25-8813-472b-808d-f0365c7bf588",
   "metadata": {},
   "source": [
    "# Project name"
   ]
  },
  {
   "cell_type": "markdown",
   "id": "0615270d-1f76-4444-8d2d-b0e60e88cbce",
   "metadata": {},
   "source": [
    "**Author:** Ames Wang\n",
    "**Last Modified:** 11-13-2024\n",
    "\n",
    "** Description:** short paragraph explaining"
   ]
  },
  {
   "cell_type": "markdown",
   "id": "72c4274b-0ecf-461d-9a99-036a5e6a25aa",
   "metadata": {},
   "source": [
    "<br>"
   ]
  },
  {
   "cell_type": "code",
   "execution_count": null,
   "id": "41297bbc-acc0-4c57-a224-74e7143cc988",
   "metadata": {},
   "outputs": [],
   "source": []
  },
  {
   "cell_type": "code",
   "execution_count": 1,
   "id": "bec405a1-2fec-4636-9733-0d7d19cd7d66",
   "metadata": {},
   "outputs": [],
   "source": [
    "import pandas as pd"
   ]
  },
  {
   "cell_type": "markdown",
   "id": "779d1ecf-850b-47b9-8f75-6a9af992d168",
   "metadata": {},
   "source": [
    "load data"
   ]
  },
  {
   "cell_type": "code",
   "execution_count": 2,
   "id": "b09790e4-9565-46ac-983b-edd3ede080cf",
   "metadata": {},
   "outputs": [],
   "source": [
    "# code to read csv file"
   ]
  }
 ],
 "metadata": {
  "kernelspec": {
   "display_name": "Python 3 (ipykernel)",
   "language": "python",
   "name": "python3"
  },
  "language_info": {
   "codemirror_mode": {
    "name": "ipython",
    "version": 3
   },
   "file_extension": ".py",
   "mimetype": "text/x-python",
   "name": "python",
   "nbconvert_exporter": "python",
   "pygments_lexer": "ipython3",
   "version": "3.12.3"
  }
 },
 "nbformat": 4,
 "nbformat_minor": 5
}
